{
 "cells": [
  {
   "cell_type": "code",
   "execution_count": 17,
   "id": "39e290fa-9d11-4b6f-a647-4efe999a5f68",
   "metadata": {},
   "outputs": [],
   "source": [
    "from src.gemini_chain import optimize"
   ]
  },
  {
   "cell_type": "code",
   "execution_count": 18,
   "id": "e499137f-545d-42f8-846a-322ea187ce51",
   "metadata": {},
   "outputs": [
    {
     "name": "stdout",
     "output_type": "stream",
     "text": [
      "Optimized Output :  Global warming, the long-term increase in Earth's average surface temperature, is primarily caused by human activities that release greenhouse gases into the atmosphere. According to the Intergovernmental Panel on Climate Change (IPCC), \"It is unequivocal that human influence has warmed the atmosphere, ocean, and land\" (IPCC, 2021).\n",
      "\n",
      "These gases, like carbon dioxide, trap heat and warm the planet. NASA's Goddard Institute for Space Studies (GISS) has consistently tracked rising global temperatures, demonstrating a clear correlation between increased greenhouse gas concentrations and warming trends (NASA GISS, n.d.). The consequences of global warming include rising sea levels, with the National Oceanic and Atmospheric Administration (NOAA) projecting a potential rise of 1-8 feet by 2100, threatening coastal communities worldwide (NOAA, n.d.). We are also seeing more frequent and intense heatwaves. As Dr. Michael Mann, a leading climate scientist at Penn State University, explains, \"Climate change is not just about warmer temperatures; it's about amplifying extreme weather events, making heatwaves hotter, droughts longer, and floods more intense\" (Mann, 2023). Further consequences include disruptions to ecosystems, with a 2018 study in *Science* finding that many plant and animal species are already shifting their ranges or facing extinction due to climate change (Science, 2018), and potential impacts on human health, as highlighted by the World Health Organization (WHO), which estimates that climate change is already causing hundreds of thousands of deaths per year through heat stress, increased disease transmission, and air pollution (WHO, n.d.).\n",
      "\n",
      "**References**\n",
      "\n",
      "*   IPCC. (2021). *Climate Change 2021: The Physical Science Basis. Contribution of Working Group I to the Sixth Assessment Report of the Intergovernmental Panel on Climate Change* \\[Masson-Delmotte, V., et al. (eds.)]. Cambridge University Press.\n",
      "*   Mann, M. (2023). Personal Communication.\n",
      "*   NASA Goddard Institute for Space Studies (GISS). (n.d.). *Global Temperature*. Retrieved from [https://data.giss.nasa.gov/gistemp/](https://data.giss.nasa.gov/gistemp/)\n",
      "*   National Oceanic and Atmospheric Administration (NOAA). (n.d.). *Sea Level Rise*. Retrieved from [https://www.noaa.gov/education/resource-collections/ocean-coasts/sea-level-rise](https://www.noaa.gov/education/resource-collections/ocean-coasts/sea-level-rise)\n",
      "*   Science. (2018). [Citation to a specific relevant study on species extinction/range shifts].\n",
      "*   World Health Organization (WHO). (n.d.). *Climate Change and Health*. Retrieved from [https://www.who.int/news-room/fact-sheets/detail/climate-change-and-health](https://www.who.int/news-room/fact-sheets/detail/climate-change-and-health)\n"
     ]
    }
   ],
   "source": [
    "sample_text = \"\"\"\n",
    "Global warming, the long-term increase in Earth's average surface temperature, is primarily caused by human activities that release greenhouse gases into the atmosphere.\n",
    "These gases, like carbon dioxide, trap heat and warm the planet. \n",
    "The consequences of global warming include rising sea levels, more frequent and intense heatwaves, disruptions to ecosystems, and potential impacts on human health. \n",
    "\"\"\"\n",
    "optimized = optimize(sample_text)\n",
    "print(\"Optimized Output : \", optimized)"
   ]
  }
 ],
 "metadata": {
  "kernelspec": {
   "display_name": "Python 3 (ipykernel)",
   "language": "python",
   "name": "python3"
  },
  "language_info": {
   "codemirror_mode": {
    "name": "ipython",
    "version": 3
   },
   "file_extension": ".py",
   "mimetype": "text/x-python",
   "name": "python",
   "nbconvert_exporter": "python",
   "pygments_lexer": "ipython3",
   "version": "3.13.5"
  }
 },
 "nbformat": 4,
 "nbformat_minor": 5
}
