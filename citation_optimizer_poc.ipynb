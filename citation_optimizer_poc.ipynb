{
 "cells": [
  {
   "cell_type": "code",
   "execution_count": 1,
   "id": "39e290fa-9d11-4b6f-a647-4efe999a5f68",
   "metadata": {},
   "outputs": [],
   "source": [
    "from src.gemini_chain import optimize"
   ]
  },
  {
   "cell_type": "code",
   "execution_count": 2,
   "id": "e499137f-545d-42f8-846a-322ea187ce51",
   "metadata": {},
   "outputs": [
    {
     "name": "stdout",
     "output_type": "stream",
     "text": [
      "Optimized Output :  Global warming, the long-term increase in Earth's average surface temperature, is primarily caused by human activities that release greenhouse gases into the atmosphere. The primary culprit is the burning of fossil fuels for energy, which releases significant amounts of carbon dioxide (CO2), a major greenhouse gas, into the atmosphere (IPCC, 2021). These gases, like carbon dioxide, trap heat and warm the planet, a phenomenon known as the \"greenhouse effect.\"\n",
      "\n",
      "The consequences of global warming are far-reaching and increasingly evident. According to the World Meteorological Organization (WMO), the global average sea level has risen by approximately 20-25 cm (8-10 inches) since 1900, and the rate of rise is accelerating. This rise threatens coastal communities and ecosystems. Furthermore, the frequency and intensity of heatwaves are increasing globally, posing significant risks to human health, particularly for vulnerable populations (WHO, 2018). \"We are already seeing the devastating impacts of climate change around the world, from more frequent and intense heatwaves to rising sea levels,\" says Dr. Maria Neira, Director of Environment, Climate Change and Health at the World Health Organization. Disruptions to ecosystems are also occurring, with changes in species distribution, increased risk of wildfires, and coral bleaching events impacting biodiversity and ecosystem services (Nature, 2016). These changes can ultimately impact human health through reduced food security and increased spread of vector-borne diseases. The UN Sustainable Development Goals Report (2023) highlights that climate change is undermining progress on many of the goals, including those related to poverty, hunger, and health.\n"
     ]
    }
   ],
   "source": [
    "sample_text = \"\"\"\n",
    "Global warming, the long-term increase in Earth's average surface temperature, is primarily caused by human activities that release greenhouse gases into the atmosphere.\n",
    "These gases, like carbon dioxide, trap heat and warm the planet. \n",
    "The consequences of global warming include rising sea levels, more frequent and intense heatwaves, disruptions to ecosystems, and potential impacts on human health. \n",
    "\"\"\"\n",
    "optimized = optimize(sample_text)\n",
    "print(\"Optimized Output : \", optimized)"
   ]
  }
 ],
 "metadata": {
  "kernelspec": {
   "display_name": "geo-optimizer",
   "language": "python",
   "name": "python3"
  },
  "language_info": {
   "codemirror_mode": {
    "name": "ipython",
    "version": 3
   },
   "file_extension": ".py",
   "mimetype": "text/x-python",
   "name": "python",
   "nbconvert_exporter": "python",
   "pygments_lexer": "ipython3",
   "version": "3.13.5"
  }
 },
 "nbformat": 4,
 "nbformat_minor": 5
}
