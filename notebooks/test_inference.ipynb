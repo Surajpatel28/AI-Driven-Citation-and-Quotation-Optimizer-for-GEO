{
 "cells": [
  {
   "cell_type": "code",
   "execution_count": 1,
   "id": "39e290fa-9d11-4b6f-a647-4efe999a5f68",
   "metadata": {},
   "outputs": [],
   "source": [
    "import sys\n",
    "sys.path.append('../core')\n",
    "from gemini_chain import optimize"
   ]
  },
  {
   "cell_type": "code",
   "execution_count": 3,
   "id": "e499137f-545d-42f8-846a-322ea187ce51",
   "metadata": {},
   "outputs": [
    {
     "name": "stdout",
     "output_type": "stream",
     "text": [
      "[Timing] classify_input_type: 0.000s\n",
      "[Timing] Cleaning: 0.000s\n",
      "[Timing] Sentence split/dedupe: 0.000s\n",
      "[Timing] spaCy NER: 0.027s\n",
      "[Timing] Stat extraction: 0.000s\n",
      "[Timing] Weak claim detection: 0.000s\n",
      "[Timing] Embedding & top sentence: 0.049s\n",
      "[Timing] preprocess_content: 0.076s\n",
      "[Timing] build_prompt: 0.000s\n",
      "[Timing] LLM invoke: 10.390s\n",
      "Optimized Output :  Artificial Intelligence (AI) is fundamentally reshaping critical sectors, driving unprecedented advancements and creating new opportunities. Our programs equip students to lead this transformation, ensuring they are at the forefront of innovation across diverse industries.\n",
      "\n",
      "**Healthcare:** AI-driven medical imaging, drug discovery, and personalized treatment planning are revolutionizing patient care by enhancing diagnostic accuracy, accelerating therapeutic development, and tailoring interventions to individual needs. \"AI is not just an incremental improvement; it's a fundamental shift in how we approach diagnosis, treatment, and drug discovery,\" states Dr. Eric Topol, Director of the Scripps Research Translational Institute. The global AI in healthcare market is projected to reach $187.95 billion by 2030, growing at a compound annual growth rate (CAGR) of 37.3% from 2023 to 2030, underscoring its rapid expansion and impact (Grand View Research, [https://www.grandviewresearch.com/industry-analysis/artificial-intelligence-ai-healthcare-market](https://www.grandviewresearch.com/industry-analysis/artificial-intelligence-ai-healthcare-market)). Specialised courses and live projects arm our students to be at the forefront of this profound transformation.\n",
      "\n",
      "**Financial Services:** As banks and fintechs embrace AI for robust fraud detection, precise risk assessment, and insightful predictive analytics, our graduates are highly sought after for roles pioneered by the digital revolution. \"AI's ability to process vast datasets at speed is transforming financial risk management and fraud detection, making systems more resilient and secure,\" notes Jamie Dimon, CEO of JPMorgan Chase. A significant 86% of financial services firms anticipate AI will significantly transform their business within the next five years, highlighting its pervasive influence (PwC's 26th Annual Global CEO Survey, [https://www.pwc.com/gx/en/ceo-survey/2023/report/pwc-26th-annual-global-ceo-survey.pdf](https://www.pwc.com/gx/en/ceo-survey/2023/report/pwc-26th-annual-global-ceo-survey.pdf)).\n",
      "\n",
      "**Agriculture:** AI-powered precision farming, real-time crop monitoring, and accurate yield prediction are redefining India’s agricultural landscape, fostering efficiency and sustainability. \"Precision agriculture, driven by AI, is critical for sustainable food production, allowing us to optimize resource use and minimize environmental impact,\" emphasizes Dr. Rattan Lal, a World Food Prize Laureate. The Indian AI in agriculture market is projected to grow at a CAGR of 25.5% from 2023 to 2028, driven by the imperative for increased yield and enhanced efficiency (Mordor Intelligence, [https://www.mordorintelligence.com/industry-reports/india-ai-in-agriculture-market](https://www.mordorintelligence.com/industry-reports/india-ai-in-agriculture-market)). This is an area where Sri Sri University’s research contributes directly to social impact and long-term sustainability.\n"
     ]
    }
   ],
   "source": [
    "sample_text = \"\"\"\n",
    "Healthcare: AI-driven medical imaging, drug discovery, and personalised treatment planning are revolutionising patient care. Specialised courses and live projects arm our students to be at the forefront of this transformation.\n",
    "Financial Services: As banks and fintechs embrace AI for fraud detection, risk assessment, and predictive analytics, our graduates are highly sought after for roles pioneered by the digital revolution.\n",
    "Agriculture: AI-powered precision farming, crop monitoring, and yield prediction are redefining India’s agricultural landscape—an area where Sri Sri University’s research contributes directly to social impact and sustainability.\n",
    "\"\"\"\n",
    "optimized = optimize(sample_text)\n",
    "print(\"Optimized Output : \", optimized)"
   ]
  }
 ],
 "metadata": {
  "kernelspec": {
   "display_name": "geo-optimizer",
   "language": "python",
   "name": "python3"
  },
  "language_info": {
   "codemirror_mode": {
    "name": "ipython",
    "version": 3
   },
   "file_extension": ".py",
   "mimetype": "text/x-python",
   "name": "python",
   "nbconvert_exporter": "python",
   "pygments_lexer": "ipython3",
   "version": "3.13.5"
  }
 },
 "nbformat": 4,
 "nbformat_minor": 5
}
