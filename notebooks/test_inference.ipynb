{
 "cells": [
  {
   "cell_type": "code",
   "execution_count": 4,
   "id": "39e290fa-9d11-4b6f-a647-4efe999a5f68",
   "metadata": {},
   "outputs": [],
   "source": [
    "import sys\n",
    "sys.path.append('../core')\n",
    "from gemini_chain import optimize"
   ]
  },
  {
   "cell_type": "code",
   "execution_count": 5,
   "id": "e499137f-545d-42f8-846a-322ea187ce51",
   "metadata": {},
   "outputs": [
    {
     "name": "stdout",
     "output_type": "stream",
     "text": [
      "[Timing] classify_input_type: 0.000s\n",
      "[Timing] Cleaning: 0.000s\n",
      "[Timing] Sentence split/dedupe: 0.000s\n",
      "[Timing] spaCy NER: 0.016s\n",
      "[Timing] Stat extraction: 0.000s\n",
      "[Timing] Weak claim detection: 0.000s\n",
      "[Timing] Embedding & top sentence: 0.025s\n",
      "[Timing] preprocess_content: 0.042s\n",
      "[Timing] build_prompt: 0.000s\n",
      "[Timing] LLM invoke: 20.685s\n",
      "LLM Raw Output: Global warming, defined by NASA as the long-term heating of Earth’s climate system observed since the pre-industrial period, is unequivocally caused by human activities. The scientific consensus, articulated in the Sixth Assessment Report by the Intergovernmental Panel on Climate Change (IPCC), confirms that human influence has warmed the atmosphere, ocean, and land.\n",
      "\n",
      "This warming is driven by the release of greenhouse gases, primarily carbon dioxide (CO2), which trap heat. According to data fro...\n",
      "Optimized Output :  Global warming, defined by NASA as the long-term heating of Earth’s climate system observed since the pre-industrial period, is unequivocally caused by human activities. The scientific consensus, articulated in the Sixth Assessment Report by the Intergovernmental Panel on Climate Change (IPCC), confirms that human influence has warmed the atmosphere, ocean, and land.\n",
      "\n",
      "This warming is driven by the release of greenhouse gases, primarily carbon dioxide (CO2), which trap heat. According to data from the National Oceanic and Atmospheric Administration (NOAA), atmospheric CO2 levels have surged by over 50% since the Industrial Revolution, reaching concentrations unprecedented in at least 800,000 years. As UN Secretary-General António Guterres warned, \"The era of global warming has ended; the era of global boiling has arrived,\" emphasizing the escalating crisis.\n",
      "\n",
      "The consequences of this planetary warming are severe and multifaceted. Global average sea level has risen by approximately 8–9 inches since 1880, with the rate of rise accelerating, according to NASA. This directly threatens coastal communities and ecosystems worldwide. Furthermore, the World Health Organization (WHO) reports that climate change is fueling more frequent and intense heatwaves, which contributed to over 61,000 heat-related deaths in Europe during the summer of 2022 alone.\n",
      "\n",
      "Ecosystems are also facing profound disruptions. A landmark study published in *Nature* warns that even with 1.5°C of warming, up to 90% of the world's warm-water coral reefs could be lost. These cascading impacts directly challenge global progress on the UN Sustainable Development Goals, particularly SDG 13 (Climate Action) and SDG 15 (Life on Land).\n"
     ]
    }
   ],
   "source": [
    "sample_text = \"\"\"\n",
    "Global warming, the long-term increase in Earth's average surface temperature, is primarily caused by human activities that release greenhouse gases into the atmosphere.\n",
    "These gases, like carbon dioxide, trap heat and warm the planet. \n",
    "The consequences of global warming include rising sea levels, more frequent and intense heatwaves, disruptions to ecosystems, and potential impacts on human health. \n",
    "\"\"\"\n",
    "optimized = optimize(sample_text)\n",
    "print(\"Optimized Output : \", optimized)"
   ]
  }
 ],
 "metadata": {
  "kernelspec": {
   "display_name": "geo-optimizer",
   "language": "python",
   "name": "python3"
  },
  "language_info": {
   "codemirror_mode": {
    "name": "ipython",
    "version": 3
   },
   "file_extension": ".py",
   "mimetype": "text/x-python",
   "name": "python",
   "nbconvert_exporter": "python",
   "pygments_lexer": "ipython3",
   "version": "3.13.5"
  }
 },
 "nbformat": 4,
 "nbformat_minor": 5
}
